{
  "cells": [
    {
      "cell_type": "markdown",
      "metadata": {
        "id": "VpexwTG2GM1m"
      },
      "source": [
        "**Will Whitehead**"
      ]
    },
    {
      "cell_type": "code",
      "execution_count": 1,
      "metadata": {
        "id": "nfX9iH0XGM1m",
        "colab": {
          "base_uri": "https://localhost:8080/"
        },
        "outputId": "4bffd254-4a6b-4eed-cbe1-adc99055fd2a"
      },
      "outputs": [
        {
          "output_type": "stream",
          "name": "stdout",
          "text": [
            "Submitted time: 2023-12-02 01:18:10.169926\n"
          ]
        }
      ],
      "source": [
        "from datetime import datetime\n",
        "\n",
        "now = datetime.now()\n",
        "print(f\"Submitted time: {now}\")"
      ]
    },
    {
      "cell_type": "markdown",
      "metadata": {
        "id": "CkTD0YcBGM1n"
      },
      "source": [
        "## Question 1\n",
        "**Names:** Store the names of a few of your friends in a list called names. Print\n",
        "each person’s name by accessing each element in the list, one at a time."
      ]
    },
    {
      "cell_type": "code",
      "execution_count": 2,
      "metadata": {
        "id": "cZyEPAwWGM1o",
        "colab": {
          "base_uri": "https://localhost:8080/"
        },
        "outputId": "192a19a3-dc95-447a-cbe3-539036d0817b"
      },
      "outputs": [
        {
          "output_type": "stream",
          "name": "stdout",
          "text": [
            "Will\n",
            "Alex\n",
            "John\n",
            "Cooper\n"
          ]
        }
      ],
      "source": [
        "friend_list = ['Will', 'Alex', 'John', 'Cooper']\n",
        "print(friend_list[0])\n",
        "print(friend_list[1])\n",
        "print(friend_list[2])\n",
        "print(friend_list[3])"
      ]
    },
    {
      "cell_type": "markdown",
      "metadata": {
        "id": "5IVRxM6eGM1o"
      },
      "source": [
        "## Question 2\n",
        "**Greetings:** Start with the list you used in Question 1, but instead of just printing each person’s name, print a message to them. The text of each message should be the same, but each message should be personalized with the person’s name."
      ]
    },
    {
      "cell_type": "code",
      "execution_count": null,
      "metadata": {
        "id": "jUq--KHHGM1o"
      },
      "outputs": [],
      "source": []
    },
    {
      "cell_type": "code",
      "execution_count": 4,
      "metadata": {
        "colab": {
          "base_uri": "https://localhost:8080/"
        },
        "outputId": "b1be4d42-927b-4116-96e2-b1804ced1b78",
        "id": "hByX6gniHMqO"
      },
      "outputs": [
        {
          "output_type": "stream",
          "name": "stdout",
          "text": [
            "Hey, Will, you're invited to my party on the 8th!\n",
            "Hey, Alex, you're invited to my party on the 8th!\n",
            "Hey, John, you're invited to my party on the 8th!\n",
            "Hey, Cooper, you're invited to my party on the 8th!\n"
          ]
        }
      ],
      "source": [
        "friend_list = ['Will', 'Alex', 'John', 'Cooper']\n",
        "print(f\"Hey, {friend_list[0]}, you're invited to my party on the 8th!\")\n",
        "print(f\"Hey, {friend_list[1]}, you're invited to my party on the 8th!\")\n",
        "print(f\"Hey, {friend_list[2]}, you're invited to my party on the 8th!\")\n",
        "print(f\"Hey, {friend_list[3]}, you're invited to my party on the 8th!\")"
      ]
    },
    {
      "cell_type": "markdown",
      "metadata": {
        "id": "BrpmHWRqGM1p"
      },
      "source": [
        "## Question 3\n",
        "**Your Own List:** Think of your favorite mode of transportation, such as a motorcycle or a car, and make a list that stores several examples. Use your list to print a series of statements about these items, such as “I would like to own a Honda motorcycle.”"
      ]
    },
    {
      "cell_type": "code",
      "execution_count": 6,
      "metadata": {
        "id": "pQbhza7AGM1p",
        "colab": {
          "base_uri": "https://localhost:8080/"
        },
        "outputId": "7480af77-717c-41f0-fa42-a4c0e2747c40"
      },
      "outputs": [
        {
          "output_type": "stream",
          "name": "stdout",
          "text": [
            "I would like to own a Toyota someday.\n",
            "I currently own a Nissan.\n",
            "I used to own a Volkswagen.\n"
          ]
        }
      ],
      "source": [
        "cars = ['Toyota', 'Nissan', 'Volkswagen']\n",
        "print(f\"I would like to own a {cars[0]} someday.\")\n",
        "print(f\"I currently own a {cars[1]}.\")\n",
        "print(f\"I used to own a {cars[2]}.\")"
      ]
    },
    {
      "cell_type": "markdown",
      "metadata": {
        "id": "alecuYdlGM1p"
      },
      "source": [
        "## Question 4\n",
        "**Guest List:** If you could invite anyone, living or deceased, to dinner, who would you invite? Make a list that includes at least three people you’d like to invite to dinner. Then use your list to print a message to each person, inviting them to dinner."
      ]
    },
    {
      "cell_type": "code",
      "execution_count": 9,
      "metadata": {
        "id": "93_i6JHrGM1q",
        "colab": {
          "base_uri": "https://localhost:8080/"
        },
        "outputId": "14346148-419f-4f8d-d0d3-a96a26cf82f2"
      },
      "outputs": [
        {
          "output_type": "stream",
          "name": "stdout",
          "text": [
            "Hey Claire, do you want to get dinner sometime?\n",
            "Hey Andrew, do you want to get dinner sometime?\n",
            "Hey Natalie, do you want to get dinner sometime?\n"
          ]
        }
      ],
      "source": [
        "invitees = ['Claire', 'Andrew', 'Natalie']\n",
        "print(f\"Hey {invitees[0]}, do you want to get dinner sometime?\")\n",
        "print(f\"Hey {invitees[1]}, do you want to get dinner sometime?\")\n",
        "print(f\"Hey {invitees[2]}, do you want to get dinner sometime?\")\n",
        "\n",
        "#I really hope I don't get to a point where I need to automate asking people to grab lunch with me..."
      ]
    },
    {
      "cell_type": "markdown",
      "metadata": {
        "id": "YqxQgFGRGM1q"
      },
      "source": [
        "## Question 5\n",
        "**Changing Guest List:** You just heard that one of your guests can’t make the dinner, so you need to send out a new set of invitations. You’ll have to think of someone else to invite."
      ]
    },
    {
      "cell_type": "markdown",
      "metadata": {
        "id": "Vs4LOSlRGM1q"
      },
      "source": [
        "Start with your program from Question 4. Add a print() call at the end of your program stating the name of the guest who can’t make it."
      ]
    },
    {
      "cell_type": "code",
      "execution_count": 16,
      "metadata": {
        "id": "kXV9c9usGM1q",
        "colab": {
          "base_uri": "https://localhost:8080/"
        },
        "outputId": "719e06b3-0739-43b2-af54-f3edb8ad374d"
      },
      "outputs": [
        {
          "output_type": "stream",
          "name": "stdout",
          "text": [
            "\"Hey Claire, do you want to get dinner tonight?\"\n",
            "\"Hey Andrew, do you want to get dinner tonight?\"\n",
            "\"Hey Natalie, do you want to get dinner tonight?\"\n",
            "Message from Natalie: \"Sorry, I already have plans.\"\n"
          ]
        }
      ],
      "source": [
        "invitees = ['Claire', 'Andrew', 'Natalie']\n",
        "print(f'\"Hey {invitees[0]}, do you want to get dinner tonight?\"')\n",
        "print(f'\"Hey {invitees[1]}, do you want to get dinner tonight?\"')\n",
        "print(f'\"Hey {invitees[2]}, do you want to get dinner tonight?\"')\n",
        "print(f'Message from {invitees[2]}: \"Sorry, I already have plans.\"')\n"
      ]
    },
    {
      "cell_type": "markdown",
      "metadata": {
        "id": "8sirN1EiGM1q"
      },
      "source": [
        "Modify your list, replacing the name of the guest who can’t make it with the name of the new person you are inviting."
      ]
    },
    {
      "cell_type": "code",
      "execution_count": 25,
      "metadata": {
        "id": "3jNmzmvjGM1r",
        "colab": {
          "base_uri": "https://localhost:8080/"
        },
        "outputId": "d0fa4710-75ca-4423-ede9-590b75968fc6"
      },
      "outputs": [
        {
          "output_type": "stream",
          "name": "stdout",
          "text": [
            "\"Hey Claire, do you want to get dinner tonight?\"\n",
            "\"Hey Andrew, do you want to get dinner tonight?\"\n",
            "\"Hey Natalie, do you want to get dinner tonight?\"\n",
            "Message from Natalie: \"Sorry, I already have plans.\"\n",
            "['Claire', 'Andrew', 'John']\n"
          ]
        }
      ],
      "source": [
        "invitees = ['Claire', 'Andrew', 'Natalie']\n",
        "print(f'\"Hey {invitees[0]}, do you want to get dinner tonight?\"')\n",
        "print(f'\"Hey {invitees[1]}, do you want to get dinner tonight?\"')\n",
        "print(f'\"Hey {invitees[2]}, do you want to get dinner tonight?\"')\n",
        "print(f'Message from {invitees[2]}: \"Sorry, I already have plans.\"')\n",
        "invitees[2] = 'John'\n",
        "print(invitees)"
      ]
    },
    {
      "cell_type": "markdown",
      "metadata": {
        "id": "0RGGQzS2GM1r"
      },
      "source": [
        "Print a second set of invitation messages, one for each person who is still in your list."
      ]
    },
    {
      "cell_type": "code",
      "execution_count": 21,
      "metadata": {
        "id": "r9pEn4ZJGM1r",
        "colab": {
          "base_uri": "https://localhost:8080/"
        },
        "outputId": "9f5ef37c-4694-4cbd-e5d3-5b4bf8b21ed4"
      },
      "outputs": [
        {
          "output_type": "stream",
          "name": "stdout",
          "text": [
            "\"Hey Claire, do you want to get dinner tonight?\"\n",
            "\"Hey Andrew, do you want to get dinner tonight?\"\n",
            "\"Hey Natalie, do you want to get dinner tonight?\"\n",
            "Message from Natalie: \"Sorry, I already have plans.\"\n",
            "\"Hey Claire, do you want to get dinner tonight?\"\n",
            "\"Hey Andrew, do you want to get dinner tonight?\"\n",
            "\"Hey John, do you want to get dinner tonight?\"\n"
          ]
        }
      ],
      "source": [
        "invitees = ['Claire', 'Andrew', 'Natalie']\n",
        "print(f'\"Hey {invitees[0]}, do you want to get dinner tonight?\"')\n",
        "print(f'\"Hey {invitees[1]}, do you want to get dinner tonight?\"')\n",
        "print(f'\"Hey {invitees[2]}, do you want to get dinner tonight?\"')\n",
        "print(f'Message from {invitees[2]}: \"Sorry, I already have plans.\"')\n",
        "declined_invite = invitees.pop()\n",
        "invitees.append('John')\n",
        "print(f'\"Hey {invitees[0]}, do you want to get dinner tonight?\"')\n",
        "print(f'\"Hey {invitees[1]}, do you want to get dinner tonight?\"')\n",
        "print(f'\"Hey {invitees[2]}, do you want to get dinner tonight?\"')"
      ]
    },
    {
      "cell_type": "markdown",
      "metadata": {
        "id": "2r2rOfLLGM1r"
      },
      "source": [
        "## Question 6\n",
        "**More Guests:** You just found a bigger dinner table, so now more space is available. Think of three more guests to invite to dinner."
      ]
    },
    {
      "cell_type": "markdown",
      "metadata": {
        "id": "BG4bSTakGM1r"
      },
      "source": [
        "Start with your program from Question 4 or Question 5. Add a print() call to the end of your program informing people that you found a bigger dinner table."
      ]
    },
    {
      "cell_type": "code",
      "execution_count": 31,
      "metadata": {
        "id": "AyUwcL0OGM1r",
        "colab": {
          "base_uri": "https://localhost:8080/"
        },
        "outputId": "1aa80ec7-c46c-4294-d3e6-0b3e9b8425ff"
      },
      "outputs": [
        {
          "output_type": "stream",
          "name": "stdout",
          "text": [
            "\"Hey Claire, do you want to get dinner tonight?\"\n",
            "\"Hey Andrew, do you want to get dinner tonight?\"\n",
            "\"Hey Natalie, do you want to get dinner tonight?\"\n",
            "\"Everyone, I found a bigger table, we can invite some more people.\"\n"
          ]
        }
      ],
      "source": [
        "invitees = ['Claire', 'Andrew', 'Natalie']\n",
        "print(f'\"Hey {invitees[0]}, do you want to get dinner tonight?\"')\n",
        "print(f'\"Hey {invitees[1]}, do you want to get dinner tonight?\"')\n",
        "print(f'\"Hey {invitees[2]}, do you want to get dinner tonight?\"')\n",
        "print('\"Everyone, I found a bigger table, we can invite some more people.\"')"
      ]
    },
    {
      "cell_type": "markdown",
      "metadata": {
        "id": "xsnAyQ31GM1r"
      },
      "source": [
        "Use insert() to add one new guest to the beginning of your list."
      ]
    },
    {
      "cell_type": "code",
      "execution_count": 33,
      "metadata": {
        "id": "rkNTZw0YGM1r",
        "colab": {
          "base_uri": "https://localhost:8080/"
        },
        "outputId": "943364c0-8e54-4dc6-a743-985a04d6222d"
      },
      "outputs": [
        {
          "output_type": "stream",
          "name": "stdout",
          "text": [
            "['Amy', 'Claire', 'Andrew', 'Natalie']\n"
          ]
        }
      ],
      "source": [
        "invitees = ['Claire', 'Andrew', 'Natalie']\n",
        "invitees.insert(0, 'Amy')\n",
        "print(invitees)"
      ]
    },
    {
      "cell_type": "markdown",
      "metadata": {
        "id": "q4-hD2HxGM1s"
      },
      "source": [
        "Use insert() to add one new guest to the middle of your list."
      ]
    },
    {
      "cell_type": "code",
      "execution_count": 34,
      "metadata": {
        "id": "tn57ghwmGM1s",
        "colab": {
          "base_uri": "https://localhost:8080/"
        },
        "outputId": "5f41eb80-25d8-46e3-bb15-d8074020b35d"
      },
      "outputs": [
        {
          "output_type": "stream",
          "name": "stdout",
          "text": [
            "['Amy', 'Claire', 'Robert', 'Andrew', 'Natalie']\n"
          ]
        }
      ],
      "source": [
        "invitees = ['Claire', 'Andrew', 'Natalie']\n",
        "invitees.insert(0, 'Amy')\n",
        "invitees.insert(2, 'Robert')\n",
        "print(invitees)\n"
      ]
    },
    {
      "cell_type": "markdown",
      "metadata": {
        "id": "1Gw6KuSBGM1s"
      },
      "source": [
        "Use append() to add one new guest to the end of your list."
      ]
    },
    {
      "cell_type": "code",
      "execution_count": 36,
      "metadata": {
        "id": "B4uBcfeZGM1s",
        "colab": {
          "base_uri": "https://localhost:8080/"
        },
        "outputId": "d084af09-3210-4bf6-a9a5-eaca9fa735de"
      },
      "outputs": [
        {
          "output_type": "stream",
          "name": "stdout",
          "text": [
            "['Amy', 'Claire', 'Robert', 'Andrew', 'Natalie', 'James']\n"
          ]
        }
      ],
      "source": [
        "invitees = ['Claire', 'Andrew', 'Natalie']\n",
        "invitees.insert(0, 'Amy')\n",
        "invitees.insert(2, 'Robert')\n",
        "invitees.append('James')\n",
        "print(invitees)"
      ]
    },
    {
      "cell_type": "markdown",
      "metadata": {
        "id": "6TBlGC23GM1s"
      },
      "source": [
        "Print a new set of invitation messages, one for each person in your list."
      ]
    },
    {
      "cell_type": "code",
      "execution_count": 37,
      "metadata": {
        "id": "ZQT8rsqvGM1s",
        "colab": {
          "base_uri": "https://localhost:8080/"
        },
        "outputId": "e968b306-c4f1-451c-fd7c-8865d50cb868"
      },
      "outputs": [
        {
          "output_type": "stream",
          "name": "stdout",
          "text": [
            "['Amy', 'Claire', 'Robert', 'Andrew', 'Natalie', 'James']\n",
            "\"Hey Amy, do you want to get dinner tonight?\"\n",
            "\"Hey Claire, do you want to get dinner tonight?\"\n",
            "\"Hey Robert, do you want to get dinner tonight?\"\n",
            "\"Hey Andrew, do you want to get dinner tonight?\"\n",
            "\"Hey Natalie, do you want to get dinner tonight?\"\n",
            "\"Hey James, do you want to get dinner tonight?\"\n"
          ]
        }
      ],
      "source": [
        "invitees = ['Claire', 'Andrew', 'Natalie']\n",
        "invitees.insert(0, 'Amy')\n",
        "invitees.insert(2, 'Robert')\n",
        "invitees.append('James')\n",
        "print(invitees)\n",
        "print(f'\"Hey {invitees[0]}, do you want to get dinner tonight?\"')\n",
        "print(f'\"Hey {invitees[1]}, do you want to get dinner tonight?\"')\n",
        "print(f'\"Hey {invitees[2]}, do you want to get dinner tonight?\"')\n",
        "print(f'\"Hey {invitees[3]}, do you want to get dinner tonight?\"')\n",
        "print(f'\"Hey {invitees[4]}, do you want to get dinner tonight?\"')\n",
        "print(f'\"Hey {invitees[5]}, do you want to get dinner tonight?\"')"
      ]
    },
    {
      "cell_type": "markdown",
      "metadata": {
        "id": "yjpjDkDJGM1s"
      },
      "source": [
        "## Question 7\n",
        "**Shrinking Guest List:** You just found out that your new dinner table won’t arrive in time for the dinner, and you have space for only two guests.\n",
        "\n",
        "Start with your program from Question 6. Add a new line that prints a message saying that you can invite only two people for dinner."
      ]
    },
    {
      "cell_type": "code",
      "execution_count": 41,
      "metadata": {
        "id": "BM8zLC4BGM1s",
        "colab": {
          "base_uri": "https://localhost:8080/"
        },
        "outputId": "cac8817b-b4b6-4b58-ab19-511aafb5e903"
      },
      "outputs": [
        {
          "output_type": "stream",
          "name": "stdout",
          "text": [
            "['Amy', 'Claire', 'Robert', 'Andrew', 'Natalie', 'James']\n",
            "\"Hey Amy, do you want to get dinner tonight?\"\n",
            "\"Hey Claire, do you want to get dinner tonight?\"\n",
            "\"Hey Robert, do you want to get dinner tonight?\"\n",
            "\"Hey Andrew, do you want to get dinner tonight?\"\n",
            "\"Hey Natalie, do you want to get dinner tonight?\"\n",
            "\"Hey James, do you want to get dinner tonight?\"\n",
            "\"Sorry everyone, the resturaunt only has room for 3, I am an insane person so 4 of you are getting kicked out for tonight\"\n"
          ]
        }
      ],
      "source": [
        "invitees = ['Claire', 'Andrew', 'Natalie']\n",
        "invitees.insert(0, 'Amy')\n",
        "invitees.insert(2, 'Robert')\n",
        "invitees.append('James')\n",
        "print(invitees)\n",
        "print(f'\"Hey {invitees[0]}, do you want to get dinner tonight?\"')\n",
        "print(f'\"Hey {invitees[1]}, do you want to get dinner tonight?\"')\n",
        "print(f'\"Hey {invitees[2]}, do you want to get dinner tonight?\"')\n",
        "print(f'\"Hey {invitees[3]}, do you want to get dinner tonight?\"')\n",
        "print(f'\"Hey {invitees[4]}, do you want to get dinner tonight?\"')\n",
        "print(f'\"Hey {invitees[5]}, do you want to get dinner tonight?\"')\n",
        "print('\"Sorry everyone, the resturaunt only has room for 3, I am an insane person so 4 of you are getting kicked out for tonight\"')\n",
        "#I know it's just an example for the question, I just think it's funny."
      ]
    },
    {
      "cell_type": "markdown",
      "metadata": {
        "id": "TAWov_o4GM1t"
      },
      "source": [
        "Use pop() to remove guests from your list one at a time until only two names remain in your list. Each time you pop a name from your list, print a message to that person letting them know you’re sorry you can’t invite them to dinner."
      ]
    },
    {
      "cell_type": "code",
      "execution_count": 44,
      "metadata": {
        "id": "IuYu-vkoGM1t",
        "colab": {
          "base_uri": "https://localhost:8080/"
        },
        "outputId": "b59e339b-6327-46a3-c076-272e51817e38"
      },
      "outputs": [
        {
          "output_type": "stream",
          "name": "stdout",
          "text": [
            "['Amy', 'Claire', 'Robert', 'Andrew', 'Natalie', 'James']\n",
            "\"Sorry, James, I used a random number generator to determine who had to be uninvited and your name came up.\"\n",
            "\"Sorry, Natalie, I used a random number generator to determine who had to be uninvited and your name came up.\"\n",
            "\"Sorry, Andrew, I used a random number generator to determine who had to be uninvited and your name came up.\"\n",
            "\"Sorry, Robert, I used a random number generator to determine who had to be uninvited and your name came up.\"\n",
            "['Amy', 'Claire']\n"
          ]
        }
      ],
      "source": [
        "invitees = ['Claire', 'Andrew', 'Natalie']\n",
        "invitees.insert(0, 'Amy')\n",
        "invitees.insert(2, 'Robert')\n",
        "invitees.append('James')\n",
        "print(invitees)\n",
        "uninvited = invitees.pop()\n",
        "print(f'\"Sorry, {uninvited}, I used a random number generator to determine who had to be uninvited and your name came up.\"')\n",
        "uninvited = invitees.pop()\n",
        "print(f'\"Sorry, {uninvited}, I used a random number generator to determine who had to be uninvited and your name came up.\"')\n",
        "uninvited = invitees.pop()\n",
        "print(f'\"Sorry, {uninvited}, I used a random number generator to determine who had to be uninvited and your name came up.\"')\n",
        "uninvited = invitees.pop()\n",
        "print(f'\"Sorry, {uninvited}, I used a random number generator to determine who had to be uninvited and your name came up.\"')\n",
        "print(invitees)"
      ]
    },
    {
      "cell_type": "markdown",
      "metadata": {
        "id": "00SVvNL5GM1t"
      },
      "source": [
        "Print a message to each of the two people still on your list, letting them know they’re still invited."
      ]
    },
    {
      "cell_type": "code",
      "execution_count": 47,
      "metadata": {
        "id": "vOaKwN8mGM1t",
        "colab": {
          "base_uri": "https://localhost:8080/"
        },
        "outputId": "18c43a10-dd64-4f6d-dc6f-d91181aaa5d1"
      },
      "outputs": [
        {
          "output_type": "stream",
          "name": "stdout",
          "text": [
            "['Amy', 'Claire', 'Robert', 'Andrew', 'Natalie', 'James']\n",
            "['Amy', 'Claire']\n",
            "\"Hey Amy, I told the others that I used a random number generator to prune down the list, but I actually just like you the most. You are still invited.\"\n",
            "\"Hey Claire, I told the others that I used a random number generator to prune down the list, but I actually just like you the most. You are still invited.\"\n"
          ]
        }
      ],
      "source": [
        "invitees = ['Claire', 'Andrew', 'Natalie']\n",
        "invitees.insert(0, 'Amy')\n",
        "invitees.insert(2, 'Robert')\n",
        "invitees.append('James')\n",
        "print(invitees)\n",
        "uninvited = invitees.pop()\n",
        "uninvited = invitees.pop()\n",
        "uninvited = invitees.pop()\n",
        "uninvited = invitees.pop()\n",
        "print(invitees)\n",
        "print(f'\"Hey {invitees[0]}, I told the others that I used a random number generator to prune down the list, but I actually just like you the most. You are still invited.\"')\n",
        "print(f'\"Hey {invitees[1]}, I told the others that I used a random number generator to prune down the list, but I actually just like you the most. You are still invited.\"')"
      ]
    },
    {
      "cell_type": "markdown",
      "metadata": {
        "id": "XQKq-U8VGM1t"
      },
      "source": [
        "Use del to remove the last two names from your list, so you have an empty list. Print your list to make sure you actually have an empty list at the end of your program."
      ]
    },
    {
      "cell_type": "code",
      "execution_count": 49,
      "metadata": {
        "id": "YSzu6lWxGM1t",
        "colab": {
          "base_uri": "https://localhost:8080/"
        },
        "outputId": "02465953-a2d4-4acd-9a47-b145440c9d35"
      },
      "outputs": [
        {
          "output_type": "stream",
          "name": "stdout",
          "text": [
            "['Amy', 'Claire', 'Robert', 'Andrew', 'Natalie', 'James']\n",
            "['Amy', 'Claire']\n",
            "[]\n"
          ]
        }
      ],
      "source": [
        "invitees = ['Claire', 'Andrew', 'Natalie']\n",
        "invitees.insert(0, 'Amy')\n",
        "invitees.insert(2, 'Robert')\n",
        "invitees.append('James')\n",
        "print(invitees)\n",
        "uninvited = invitees.pop()\n",
        "uninvited = invitees.pop()\n",
        "uninvited = invitees.pop()\n",
        "uninvited = invitees.pop()\n",
        "print(invitees)\n",
        "del invitees[1]\n",
        "del invitees[0]\n",
        "print(invitees)"
      ]
    },
    {
      "cell_type": "markdown",
      "metadata": {
        "id": "5CfhWZE2GM1t"
      },
      "source": [
        "## Question 8\n",
        "**Seeing the World:** Think of at least five places in the world you’d like to visit.\n",
        "\n",
        "Store the locations in a list. Make sure the list is not in alphabetical order."
      ]
    },
    {
      "cell_type": "code",
      "execution_count": null,
      "metadata": {
        "id": "NwJOz26pGM1t"
      },
      "outputs": [],
      "source": [
        "locations = ['Sweden', 'California', 'Australia', 'England', 'Japan']"
      ]
    },
    {
      "cell_type": "markdown",
      "metadata": {
        "id": "VaNOGmBVGM1x"
      },
      "source": [
        "Print your list in its original order. Don’t worry about printing the list neatly, just print it as a raw Python list."
      ]
    },
    {
      "cell_type": "code",
      "execution_count": 50,
      "metadata": {
        "id": "wFJS8s4uGM1x",
        "colab": {
          "base_uri": "https://localhost:8080/"
        },
        "outputId": "f639704a-4734-43b7-c416-3970e4f2e6ce"
      },
      "outputs": [
        {
          "output_type": "stream",
          "name": "stdout",
          "text": [
            "['Sweden', 'California', 'Australia', 'England', 'Japan']\n"
          ]
        }
      ],
      "source": [
        "locations = ['Sweden', 'California', 'Australia', 'England', 'Japan']\n",
        "print(locations)"
      ]
    },
    {
      "cell_type": "markdown",
      "metadata": {
        "id": "TN4MvM4eGM1x"
      },
      "source": [
        "Use sorted() to print your list in alphabetical order without modifying the actual list."
      ]
    },
    {
      "cell_type": "code",
      "execution_count": 52,
      "metadata": {
        "id": "OfXmpmfAGM1x",
        "colab": {
          "base_uri": "https://localhost:8080/"
        },
        "outputId": "dfb6c632-2d7f-48bb-9175-e51d40455fc7"
      },
      "outputs": [
        {
          "output_type": "stream",
          "name": "stdout",
          "text": [
            "['Australia', 'California', 'England', 'Japan', 'Sweden']\n"
          ]
        }
      ],
      "source": [
        "print(sorted(locations))"
      ]
    },
    {
      "cell_type": "markdown",
      "metadata": {
        "id": "7zBY70HgGM1y"
      },
      "source": [
        "Show that your list is still in its original order by printing it."
      ]
    },
    {
      "cell_type": "code",
      "execution_count": 53,
      "metadata": {
        "id": "L-4_U34LGM1y",
        "colab": {
          "base_uri": "https://localhost:8080/"
        },
        "outputId": "608f5713-416b-4150-8773-bfc5eba5f0de"
      },
      "outputs": [
        {
          "output_type": "stream",
          "name": "stdout",
          "text": [
            "['Sweden', 'California', 'Australia', 'England', 'Japan']\n"
          ]
        }
      ],
      "source": [
        "print(locations)"
      ]
    },
    {
      "cell_type": "markdown",
      "metadata": {
        "id": "TnFvSGHzGM1y"
      },
      "source": [
        "Use sorted() to print your list in reverse alphabetical order without changing the order of the original list."
      ]
    },
    {
      "cell_type": "code",
      "execution_count": 58,
      "metadata": {
        "id": "TUDv-b8iGM1y",
        "colab": {
          "base_uri": "https://localhost:8080/"
        },
        "outputId": "6e8b2c88-5075-4d61-ee22-5bd5c065d0ea"
      },
      "outputs": [
        {
          "output_type": "stream",
          "name": "stdout",
          "text": [
            "['Sweden', 'Japan', 'England', 'California', 'Australia']\n"
          ]
        }
      ],
      "source": [
        "print(sorted(locations, reverse=True))"
      ]
    },
    {
      "cell_type": "markdown",
      "metadata": {
        "id": "TK15J3eaGM1y"
      },
      "source": [
        "Show that your list is still in its original order by printing it again."
      ]
    },
    {
      "cell_type": "code",
      "execution_count": 59,
      "metadata": {
        "id": "kUCdP0mbGM1y",
        "colab": {
          "base_uri": "https://localhost:8080/"
        },
        "outputId": "57ad5bc3-41bd-42de-d886-72bb145ebf11"
      },
      "outputs": [
        {
          "output_type": "stream",
          "name": "stdout",
          "text": [
            "['Sweden', 'California', 'Australia', 'England', 'Japan']\n"
          ]
        }
      ],
      "source": [
        "print(locations)"
      ]
    },
    {
      "cell_type": "markdown",
      "metadata": {
        "id": "59ziOoGkGM1y"
      },
      "source": [
        "Use reverse() to change the order of your list. Print the list to show that its order has changed."
      ]
    },
    {
      "cell_type": "code",
      "execution_count": 60,
      "metadata": {
        "id": "Tha1V49zGM1y",
        "colab": {
          "base_uri": "https://localhost:8080/"
        },
        "outputId": "ef7280a4-40e9-4498-9abc-5e020e0166c1"
      },
      "outputs": [
        {
          "output_type": "stream",
          "name": "stdout",
          "text": [
            "['Japan', 'England', 'Australia', 'California', 'Sweden']\n"
          ]
        }
      ],
      "source": [
        "locations.reverse()\n",
        "print(locations)"
      ]
    },
    {
      "cell_type": "markdown",
      "metadata": {
        "id": "tgJJi4ydGM1y"
      },
      "source": [
        "Use reverse() to change the order of your list again. Print the list to show it’s back to its original order."
      ]
    },
    {
      "cell_type": "code",
      "execution_count": 61,
      "metadata": {
        "id": "msFLBP0EGM1z",
        "colab": {
          "base_uri": "https://localhost:8080/"
        },
        "outputId": "c93a32c5-7a80-4956-dc97-3a1c82ea0e38"
      },
      "outputs": [
        {
          "output_type": "stream",
          "name": "stdout",
          "text": [
            "['Sweden', 'California', 'Australia', 'England', 'Japan']\n"
          ]
        }
      ],
      "source": [
        "locations.reverse()\n",
        "print(locations)"
      ]
    },
    {
      "cell_type": "markdown",
      "metadata": {
        "id": "fouju2fDGM1z"
      },
      "source": [
        "Use sort() to change your list so it’s stored in alphabetical order. Print the list to show that its order has been changed."
      ]
    },
    {
      "cell_type": "code",
      "execution_count": 62,
      "metadata": {
        "id": "eZwcboegGM1z",
        "colab": {
          "base_uri": "https://localhost:8080/"
        },
        "outputId": "6b7263e8-90f0-4afb-c3e6-1e61709f7558"
      },
      "outputs": [
        {
          "output_type": "stream",
          "name": "stdout",
          "text": [
            "['Australia', 'California', 'England', 'Japan', 'Sweden']\n"
          ]
        }
      ],
      "source": [
        "locations.sort()\n",
        "print(locations)"
      ]
    },
    {
      "cell_type": "markdown",
      "metadata": {
        "id": "U2m7ja1DGM1z"
      },
      "source": [
        "Use sort() to change your list so it’s stored in reverse alphabetical order. Print the list to show that its order has changed."
      ]
    },
    {
      "cell_type": "code",
      "execution_count": 63,
      "metadata": {
        "id": "M2_1glRIGM1z",
        "colab": {
          "base_uri": "https://localhost:8080/"
        },
        "outputId": "b39b4a80-3d90-497e-a7ae-50e089017cbd"
      },
      "outputs": [
        {
          "output_type": "stream",
          "name": "stdout",
          "text": [
            "['Sweden', 'Japan', 'England', 'California', 'Australia']\n"
          ]
        }
      ],
      "source": [
        "locations.sort(reverse=True)\n",
        "print(locations)"
      ]
    },
    {
      "cell_type": "markdown",
      "metadata": {
        "id": "kbHLyUczGM1z"
      },
      "source": [
        "## Question 9\n",
        "**Dinner Guests:** Working with one of the programs from Question 4 through Question 7, use len() to print a message indicating the number of people you are inviting to dinner."
      ]
    },
    {
      "cell_type": "code",
      "execution_count": 65,
      "metadata": {
        "id": "flSgOGFCGM1z",
        "colab": {
          "base_uri": "https://localhost:8080/"
        },
        "outputId": "721c2911-0ebd-432f-dc24-035f5f133d46"
      },
      "outputs": [
        {
          "output_type": "stream",
          "name": "stdout",
          "text": [
            "['Amy', 'Claire', 'Robert', 'Andrew', 'Natalie', 'James']\n",
            "The invite list contains 6 guests.\n"
          ]
        }
      ],
      "source": [
        "invitees = ['Claire', 'Andrew', 'Natalie']\n",
        "invitees.insert(0, 'Amy')\n",
        "invitees.insert(2, 'Robert')\n",
        "invitees.append('James')\n",
        "print(invitees)\n",
        "length = len(invitees)\n",
        "print(f\"The invite list contains {length} guests.\")"
      ]
    },
    {
      "cell_type": "markdown",
      "metadata": {
        "id": "nUThT30MGM1z"
      },
      "source": [
        "## Question 10\n",
        "**Every Function:** Think of something you could store in a list. For example, you could make a list of mountains, rivers, countries, cities, languages, or anything else you’d like. Write a program that creates a list containing these items and then uses each function introduced in this chapter at least once."
      ]
    },
    {
      "cell_type": "code",
      "execution_count": 84,
      "metadata": {
        "id": "T4rWH0-hGM1z",
        "colab": {
          "base_uri": "https://localhost:8080/"
        },
        "outputId": "2f811a12-b505-42fb-b999-0db80eb86fd3"
      },
      "outputs": [
        {
          "output_type": "stream",
          "name": "stdout",
          "text": [
            "['Red', 'Green', 'Blue']\n",
            "['Red', 'Green', 'Blue', 'Yellow']\n",
            "['Red', 'Green', 'Purple', 'Blue', 'Yellow']\n",
            "['Red', 'Green', 'Blue', 'Yellow']\n",
            "['Red', 'Green', 'Blue']\n",
            "Popped_Color = Yellow\n",
            "['Green', 'Blue']\n",
            "['Green', 'Blue', 'Yellow', 'Purple']\n",
            "['Blue', 'Green', 'Purple', 'Yellow']\n",
            "['Yellow', 'Purple', 'Green', 'Blue']\n",
            "['Blue', 'Green', 'Purple', 'Yellow']\n",
            "['Yellow', 'Purple', 'Green', 'Blue']\n",
            "Length = 4\n"
          ]
        }
      ],
      "source": [
        "colors = ['Red','Green','Blue',]\n",
        "print(colors)\n",
        "colors.append('Yellow')\n",
        "print(colors)\n",
        "colors.insert(2, 'Purple')\n",
        "print(colors)\n",
        "del colors[2]\n",
        "print(colors)\n",
        "popped_color = colors.pop()\n",
        "print(colors)\n",
        "print(f\"Popped_Color = {popped_color}\")\n",
        "colors.remove('Red')\n",
        "print(colors)\n",
        "#adding more colors to make sorting more obvious\n",
        "colors.append('Yellow')\n",
        "colors.append('Purple')\n",
        "print(colors)\n",
        "#temp sorting\n",
        "print(sorted(colors))\n",
        "print(sorted(colors, reverse=True))\n",
        "#permanant sorting\n",
        "colors.sort()\n",
        "print(colors)\n",
        "colors.sort(reverse=True)\n",
        "print(colors)\n",
        "length_colors = len(colors)\n",
        "print (f\"Length = {length_colors}\")"
      ]
    }
  ],
  "metadata": {
    "kernelspec": {
      "display_name": "Python 3 (ipykernel)",
      "language": "python",
      "name": "python3"
    },
    "language_info": {
      "codemirror_mode": {
        "name": "ipython",
        "version": 3
      },
      "file_extension": ".py",
      "mimetype": "text/x-python",
      "name": "python",
      "nbconvert_exporter": "python",
      "pygments_lexer": "ipython3",
      "version": "3.8.10"
    },
    "colab": {
      "provenance": []
    }
  },
  "nbformat": 4,
  "nbformat_minor": 0
}